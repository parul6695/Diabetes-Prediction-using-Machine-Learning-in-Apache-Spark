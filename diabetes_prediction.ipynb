{
  "nbformat": 4,
  "nbformat_minor": 0,
  "metadata": {
    "colab": {
      "name": "diabetes_prediction.ipynb",
      "provenance": [],
      "authorship_tag": "ABX9TyPyZ8dxo0Ms+6gBg63avRMO",
      "include_colab_link": true
    },
    "kernelspec": {
      "name": "python3",
      "display_name": "Python 3"
    }
  },
  "cells": [
    {
      "cell_type": "markdown",
      "metadata": {
        "id": "view-in-github",
        "colab_type": "text"
      },
      "source": [
        "<a href=\"https://colab.research.google.com/github/parul6695/Diabetes-Prediction-using-Machine-Learning-in-Apache-Spark/blob/master/diabetes_prediction.ipynb\" target=\"_parent\"><img src=\"https://colab.research.google.com/assets/colab-badge.svg\" alt=\"Open In Colab\"/></a>"
      ]
    },
    {
      "cell_type": "markdown",
      "metadata": {
        "id": "ShT6ziOv6nJm",
        "colab_type": "text"
      },
      "source": [
        "Install dependencies to run **Pyspark**"
      ]
    },
    {
      "cell_type": "code",
      "metadata": {
        "id": "c7IwnvU4bSBe",
        "colab_type": "code",
        "colab": {
          "base_uri": "https://localhost:8080/",
          "height": 263
        },
        "outputId": "532837e4-d995-4170-f102-1ab14e204ef5"
      },
      "source": [
        "!apt-get install openjdk-8-jdk-headless -qq > /dev/null\n",
        "!pip install pyspark==2.4.4"
      ],
      "execution_count": 2,
      "outputs": [
        {
          "output_type": "stream",
          "text": [
            "Collecting pyspark==2.4.4\n",
            "\u001b[?25l  Downloading https://files.pythonhosted.org/packages/87/21/f05c186f4ddb01d15d0ddc36ef4b7e3cedbeb6412274a41f26b55a650ee5/pyspark-2.4.4.tar.gz (215.7MB)\n",
            "\u001b[K     |████████████████████████████████| 215.7MB 61kB/s \n",
            "\u001b[?25hCollecting py4j==0.10.7\n",
            "\u001b[?25l  Downloading https://files.pythonhosted.org/packages/e3/53/c737818eb9a7dc32a7cd4f1396e787bd94200c3997c72c1dbe028587bd76/py4j-0.10.7-py2.py3-none-any.whl (197kB)\n",
            "\u001b[K     |████████████████████████████████| 204kB 35.2MB/s \n",
            "\u001b[?25hBuilding wheels for collected packages: pyspark\n",
            "  Building wheel for pyspark (setup.py) ... \u001b[?25l\u001b[?25hdone\n",
            "  Created wheel for pyspark: filename=pyspark-2.4.4-py2.py3-none-any.whl size=216130388 sha256=db4605b4c86922c376879c8a74a2b2b0388d5fac5e6f79d1c00d1222bfc4ded5\n",
            "  Stored in directory: /root/.cache/pip/wheels/ab/09/4d/0d184230058e654eb1b04467dbc1292f00eaa186544604b471\n",
            "Successfully built pyspark\n",
            "Installing collected packages: py4j, pyspark\n",
            "Successfully installed py4j-0.10.7 pyspark-2.4.4\n"
          ],
          "name": "stdout"
        }
      ]
    },
    {
      "cell_type": "markdown",
      "metadata": {
        "id": "P2zjBDZK8aCn",
        "colab_type": "text"
      },
      "source": [
        "Setting Environment Path"
      ]
    },
    {
      "cell_type": "code",
      "metadata": {
        "id": "NJo3xe298moa",
        "colab_type": "code",
        "colab": {}
      },
      "source": [
        "import os\n",
        "os.environ[\"JAVA_HOME\"] = \"/usr/lib/jvm/java-8-openjdk-amd64\"\n"
      ],
      "execution_count": 7,
      "outputs": []
    },
    {
      "cell_type": "markdown",
      "metadata": {
        "id": "NtXnJPnTxnlF",
        "colab_type": "text"
      },
      "source": [
        "Run a SparkSession"
      ]
    },
    {
      "cell_type": "code",
      "metadata": {
        "id": "E6jerXifxwpF",
        "colab_type": "code",
        "colab": {}
      },
      "source": [
        "from pyspark.sql import SparkSession\n",
        "spark = SparkSession.builder.appName(\"spark\").getOrCreate()"
      ],
      "execution_count": 8,
      "outputs": []
    },
    {
      "cell_type": "markdown",
      "metadata": {
        "id": "aVmTFbvGyvgE",
        "colab_type": "text"
      },
      "source": [
        "Clone Diabetes Dataset"
      ]
    },
    {
      "cell_type": "code",
      "metadata": {
        "id": "dqaq4T-Nysi0",
        "colab_type": "code",
        "colab": {
          "base_uri": "https://localhost:8080/",
          "height": 121
        },
        "outputId": "ff97ddf5-053e-468d-9085-a10240cff3ec"
      },
      "source": [
        "!git clone https://github.com/education454/diabetes_dataset"
      ],
      "execution_count": 4,
      "outputs": [
        {
          "output_type": "stream",
          "text": [
            "Cloning into 'diabetes_dataset'...\n",
            "remote: Enumerating objects: 3, done.\u001b[K\n",
            "remote: Counting objects: 100% (3/3), done.\u001b[K\n",
            "remote: Compressing objects: 100% (2/2), done.\u001b[K\n",
            "remote: Total 3 (delta 0), reused 0 (delta 0), pack-reused 0\u001b[K\n",
            "Unpacking objects: 100% (3/3), done.\n"
          ],
          "name": "stdout"
        }
      ]
    },
    {
      "cell_type": "code",
      "metadata": {
        "id": "RMAT5etszgws",
        "colab_type": "code",
        "colab": {
          "base_uri": "https://localhost:8080/",
          "height": 34
        },
        "outputId": "608bf199-68f3-4953-ea1d-a8e62085119e"
      },
      "source": [
        "!ls diabetes_dataset"
      ],
      "execution_count": 6,
      "outputs": [
        {
          "output_type": "stream",
          "text": [
            "diabetes.csv\n"
          ],
          "name": "stdout"
        }
      ]
    },
    {
      "cell_type": "markdown",
      "metadata": {
        "id": "iGOVU4eH2Hha",
        "colab_type": "text"
      },
      "source": [
        "Setting \"header=True\" will make sure that headers already present in file get treated as it is, if set False, it will treat it as of type string and as a record. Setting \"inferSchema=True\" will ensure the reading of the datatypes of column as it is present in original dataset."
      ]
    },
    {
      "cell_type": "code",
      "metadata": {
        "id": "Yz9YBurl1rSM",
        "colab_type": "code",
        "colab": {}
      },
      "source": [
        "df=spark.read.csv(\"/content/diabetes_dataset/diabetes.csv\",header=True,inferSchema=True)"
      ],
      "execution_count": 9,
      "outputs": []
    },
    {
      "cell_type": "code",
      "metadata": {
        "id": "qceTcEUg44Op",
        "colab_type": "code",
        "colab": {
          "base_uri": "https://localhost:8080/",
          "height": 468
        },
        "outputId": "4b3d420e-7d2e-4614-f60a-834fc59fecba"
      },
      "source": [
        "df.show()"
      ],
      "execution_count": 10,
      "outputs": [
        {
          "output_type": "stream",
          "text": [
            "+-----------+-------+-------------+-------------+-------+----+------------------------+---+-------+\n",
            "|Pregnancies|Glucose|BloodPressure|SkinThickness|Insulin| BMI|DiabetesPedigreeFunction|Age|Outcome|\n",
            "+-----------+-------+-------------+-------------+-------+----+------------------------+---+-------+\n",
            "|          2|    138|           62|           35|      0|33.6|                   0.127| 47|      1|\n",
            "|          0|     84|           82|           31|    125|38.2|                   0.233| 23|      0|\n",
            "|          0|    145|            0|            0|      0|44.2|                    0.63| 31|      1|\n",
            "|          0|    135|           68|           42|    250|42.3|                   0.365| 24|      1|\n",
            "|          1|    139|           62|           41|    480|40.7|                   0.536| 21|      0|\n",
            "|          0|    173|           78|           32|    265|46.5|                   1.159| 58|      0|\n",
            "|          4|     99|           72|           17|      0|25.6|                   0.294| 28|      0|\n",
            "|          8|    194|           80|            0|      0|26.1|                   0.551| 67|      0|\n",
            "|          2|     83|           65|           28|     66|36.8|                   0.629| 24|      0|\n",
            "|          2|     89|           90|           30|      0|33.5|                   0.292| 42|      0|\n",
            "|          4|     99|           68|           38|      0|32.8|                   0.145| 33|      0|\n",
            "|          4|    125|           70|           18|    122|28.9|                   1.144| 45|      1|\n",
            "|          3|     80|            0|            0|      0| 0.0|                   0.174| 22|      0|\n",
            "|          6|    166|           74|            0|      0|26.6|                   0.304| 66|      0|\n",
            "|          5|    110|           68|            0|      0|26.0|                   0.292| 30|      0|\n",
            "|          2|     81|           72|           15|     76|30.1|                   0.547| 25|      0|\n",
            "|          7|    195|           70|           33|    145|25.1|                   0.163| 55|      1|\n",
            "|          6|    154|           74|           32|    193|29.3|                   0.839| 39|      0|\n",
            "|          2|    117|           90|           19|     71|25.2|                   0.313| 21|      0|\n",
            "|          3|     84|           72|           32|      0|37.2|                   0.267| 28|      0|\n",
            "+-----------+-------+-------------+-------------+-------+----+------------------------+---+-------+\n",
            "only showing top 20 rows\n",
            "\n"
          ],
          "name": "stdout"
        }
      ]
    },
    {
      "cell_type": "markdown",
      "metadata": {
        "id": "uK1vrHLP5OV2",
        "colab_type": "text"
      },
      "source": [
        "printSchema(): to check the datatype"
      ]
    },
    {
      "cell_type": "code",
      "metadata": {
        "id": "ZZeGp3JF5Zbx",
        "colab_type": "code",
        "colab": {
          "base_uri": "https://localhost:8080/",
          "height": 208
        },
        "outputId": "1213e7dc-443d-4d98-e944-ced51d9473df"
      },
      "source": [
        "df.printSchema()"
      ],
      "execution_count": 10,
      "outputs": [
        {
          "output_type": "stream",
          "text": [
            "root\n",
            " |-- Pregnancies: integer (nullable = true)\n",
            " |-- Glucose: integer (nullable = true)\n",
            " |-- BloodPressure: integer (nullable = true)\n",
            " |-- SkinThickness: integer (nullable = true)\n",
            " |-- Insulin: integer (nullable = true)\n",
            " |-- BMI: double (nullable = true)\n",
            " |-- DiabetesPedigreeFunction: double (nullable = true)\n",
            " |-- Age: integer (nullable = true)\n",
            " |-- Outcome: integer (nullable = true)\n",
            "\n"
          ],
          "name": "stdout"
        }
      ]
    },
    {
      "cell_type": "code",
      "metadata": {
        "id": "op5R0lkn61IP",
        "colab_type": "code",
        "colab": {
          "base_uri": "https://localhost:8080/",
          "height": 34
        },
        "outputId": "46b6f806-577f-43ff-e184-e12610d93348"
      },
      "source": [
        "print((\"Rows=\",df.count(),\"Columns=\",len(df.columns)))"
      ],
      "execution_count": 26,
      "outputs": [
        {
          "output_type": "stream",
          "text": [
            "('Rows=', 2000, 'Columns=', 9)\n"
          ],
          "name": "stdout"
        }
      ]
    },
    {
      "cell_type": "markdown",
      "metadata": {
        "id": "ktND-dJ97xIc",
        "colab_type": "text"
      },
      "source": [
        "Exploring dataset to know how many patients are diabetic, represented by 1 in dataset."
      ]
    },
    {
      "cell_type": "code",
      "metadata": {
        "id": "9PKaz5I978__",
        "colab_type": "code",
        "colab": {
          "base_uri": "https://localhost:8080/",
          "height": 138
        },
        "outputId": "53b12982-db41-4c88-e9f9-232e2991f63b"
      },
      "source": [
        "df.groupBy(\"Outcome\").count().show()"
      ],
      "execution_count": 30,
      "outputs": [
        {
          "output_type": "stream",
          "text": [
            "+-------+-----+\n",
            "|Outcome|count|\n",
            "+-------+-----+\n",
            "|      1|  684|\n",
            "|      0| 1316|\n",
            "+-------+-----+\n",
            "\n"
          ],
          "name": "stdout"
        }
      ]
    },
    {
      "cell_type": "markdown",
      "metadata": {
        "id": "s7HCJ39u8xdY",
        "colab_type": "text"
      },
      "source": [
        "Use \"describe\" to calculate stats of numerical columns in our dataset."
      ]
    },
    {
      "cell_type": "code",
      "metadata": {
        "id": "pxiWaisY88Bf",
        "colab_type": "code",
        "colab": {
          "base_uri": "https://localhost:8080/",
          "height": 210
        },
        "outputId": "42bb14f3-1883-49c2-9360-4ec722614447"
      },
      "source": [
        "df.describe().show()"
      ],
      "execution_count": 32,
      "outputs": [
        {
          "output_type": "stream",
          "text": [
            "+-------+-----------------+------------------+------------------+-----------------+-----------------+------------------+------------------------+------------------+------------------+\n",
            "|summary|      Pregnancies|           Glucose|     BloodPressure|    SkinThickness|          Insulin|               BMI|DiabetesPedigreeFunction|               Age|           Outcome|\n",
            "+-------+-----------------+------------------+------------------+-----------------+-----------------+------------------+------------------------+------------------+------------------+\n",
            "|  count|             2000|              2000|              2000|             2000|             2000|              2000|                    2000|              2000|              2000|\n",
            "|   mean|           3.7035|          121.1825|           69.1455|           20.935|           80.254|32.192999999999984|     0.47092999999999974|           33.0905|             0.342|\n",
            "| stddev|3.306063032730656|32.068635649902916|19.188314815604098|16.10324290992682|111.1805335457595| 8.149900701279762|      0.3235525586811429|11.786423106049496|0.4744982342297426|\n",
            "|    min|                0|                 0|                 0|                0|                0|               0.0|                   0.078|                21|                 0|\n",
            "|    max|               17|               199|               122|              110|              744|              80.6|                    2.42|                81|                 1|\n",
            "+-------+-----------------+------------------+------------------+-----------------+-----------------+------------------+------------------------+------------------+------------------+\n",
            "\n"
          ],
          "name": "stdout"
        }
      ]
    },
    {
      "cell_type": "markdown",
      "metadata": {
        "id": "5TLy4Z5T9rgx",
        "colab_type": "text"
      },
      "source": [
        "From here we observed that value can be 0 for pregranancy but it can't be zero for othr numerical columns like Glucose, BloodPressure and so on. Let's replace these invalid values with mean. These invalid values may lead to bad machine learning model. There might be null values present in these columns values.\n",
        "\n",
        "**Lets do Data Cleaning**"
      ]
    },
    {
      "cell_type": "code",
      "metadata": {
        "id": "W2NF2A_cHVpu",
        "colab_type": "code",
        "colab": {
          "base_uri": "https://localhost:8080/",
          "height": 173
        },
        "outputId": "64bcd16e-4309-44df-df09-f5abd06665a7"
      },
      "source": [
        "#checking count of null values in each column\n",
        "for col in df.columns:\n",
        "  print(col+\":\",df[df[col].isNull()].count())"
      ],
      "execution_count": 11,
      "outputs": [
        {
          "output_type": "stream",
          "text": [
            "Pregnancies: 0\n",
            "Glucose: 0\n",
            "BloodPressure: 0\n",
            "SkinThickness: 0\n",
            "Insulin: 0\n",
            "BMI: 0\n",
            "DiabetesPedigreeFunction: 0\n",
            "Age: 0\n",
            "Outcome: 0\n"
          ],
          "name": "stdout"
        }
      ]
    },
    {
      "cell_type": "markdown",
      "metadata": {
        "id": "WLzp-cdvMv2x",
        "colab_type": "text"
      },
      "source": [
        "From above, we observed that there is no Null value present in those columns, so lets check for number of zero values in those 5 columns which can't be zero in real life."
      ]
    },
    {
      "cell_type": "code",
      "metadata": {
        "id": "Qwsj3qpSENEu",
        "colab_type": "code",
        "colab": {
          "base_uri": "https://localhost:8080/",
          "height": 104
        },
        "outputId": "e3978582-dfc2-4ad3-8ec9-8615b8a8b320"
      },
      "source": [
        "#define a function to count number of zeroes in 5 columns:Glucose,BloodPressure,SkinThickness,Insulin,BMI.\n",
        "def count_zeros():\n",
        "  col=[\"Glucose\",\"BloodPressure\",\"SkinThickness\",\"Insulin\",\"BMI\"]\n",
        "  for i in col:\n",
        "    print(i+\":\",df[df[i]==0].count())\n",
        "count_zeros()"
      ],
      "execution_count": 12,
      "outputs": [
        {
          "output_type": "stream",
          "text": [
            "Glucose: 13\n",
            "BloodPressure: 90\n",
            "SkinThickness: 573\n",
            "Insulin: 956\n",
            "BMI: 28\n"
          ],
          "name": "stdout"
        }
      ]
    },
    {
      "cell_type": "code",
      "metadata": {
        "id": "V4XKk5SUNzva",
        "colab_type": "code",
        "colab": {
          "base_uri": "https://localhost:8080/",
          "height": 555
        },
        "outputId": "806b261d-b1cf-4ef0-b71c-ce0f9bda5dfc"
      },
      "source": [
        "#finding mean for each column\n",
        "from pyspark.sql.functions import *\n",
        "for i in df.columns[1:6]:\n",
        "  data=df.agg({i:\"mean\"}).first()[0]\n",
        "  print(\"Mean for {} is {}\".format(i,data))\n",
        "  #withColumn return new dataframe, now replacing 0s with mean value\n",
        "  df=df.withColumn(i,when(df[i]==0,int(data)).otherwise(df[i]))\n",
        "#checking dataframe if values replaced\n",
        "df.show()"
      ],
      "execution_count": 22,
      "outputs": [
        {
          "output_type": "stream",
          "text": [
            "Mean for Glucose is 121.969\n",
            "Mean for BloodPressure is 72.2505\n",
            "Mean for SkinThickness is 26.665\n",
            "Mean for Insulin is 118.494\n",
            "Mean for BMI is 32.640999999999984\n",
            "+-----------+-------+-------------+-------------+-------+----+------------------------+---+-------+\n",
            "|Pregnancies|Glucose|BloodPressure|SkinThickness|Insulin| BMI|DiabetesPedigreeFunction|Age|Outcome|\n",
            "+-----------+-------+-------------+-------------+-------+----+------------------------+---+-------+\n",
            "|          2|    138|           62|           35|     80|33.6|                   0.127| 47|      1|\n",
            "|          0|     84|           82|           31|    125|38.2|                   0.233| 23|      0|\n",
            "|          0|    145|           69|           20|     80|44.2|                    0.63| 31|      1|\n",
            "|          0|    135|           68|           42|    250|42.3|                   0.365| 24|      1|\n",
            "|          1|    139|           62|           41|    480|40.7|                   0.536| 21|      0|\n",
            "|          0|    173|           78|           32|    265|46.5|                   1.159| 58|      0|\n",
            "|          4|     99|           72|           17|     80|25.6|                   0.294| 28|      0|\n",
            "|          8|    194|           80|           20|     80|26.1|                   0.551| 67|      0|\n",
            "|          2|     83|           65|           28|     66|36.8|                   0.629| 24|      0|\n",
            "|          2|     89|           90|           30|     80|33.5|                   0.292| 42|      0|\n",
            "|          4|     99|           68|           38|     80|32.8|                   0.145| 33|      0|\n",
            "|          4|    125|           70|           18|    122|28.9|                   1.144| 45|      1|\n",
            "|          3|     80|           69|           20|     80|32.0|                   0.174| 22|      0|\n",
            "|          6|    166|           74|           20|     80|26.6|                   0.304| 66|      0|\n",
            "|          5|    110|           68|           20|     80|26.0|                   0.292| 30|      0|\n",
            "|          2|     81|           72|           15|     76|30.1|                   0.547| 25|      0|\n",
            "|          7|    195|           70|           33|    145|25.1|                   0.163| 55|      1|\n",
            "|          6|    154|           74|           32|    193|29.3|                   0.839| 39|      0|\n",
            "|          2|    117|           90|           19|     71|25.2|                   0.313| 21|      0|\n",
            "|          3|     84|           72|           32|     80|37.2|                   0.267| 28|      0|\n",
            "+-----------+-------+-------------+-------------+-------+----+------------------------+---+-------+\n",
            "only showing top 20 rows\n",
            "\n"
          ],
          "name": "stdout"
        }
      ]
    },
    {
      "cell_type": "markdown",
      "metadata": {
        "id": "U8SXmahxyCnU",
        "colab_type": "text"
      },
      "source": [
        "Corelation: Now we will find corelation between input and output variable. Positive corelation means if input variable increase,output variable also increase and negative corelation vice-a-versa."
      ]
    },
    {
      "cell_type": "code",
      "metadata": {
        "id": "hJf3A0tZxzru",
        "colab_type": "code",
        "colab": {
          "base_uri": "https://localhost:8080/",
          "height": 173
        },
        "outputId": "de9a5957-98b2-40cf-b797-670fd671c7a9"
      },
      "source": [
        "for col in df.columns:\n",
        "  print(\"Corelation to outcome for {} is {} \".format(col,df.stat.corr('Outcome',col)))"
      ],
      "execution_count": 23,
      "outputs": [
        {
          "output_type": "stream",
          "text": [
            "Corelation to outcome for Pregnancies is 0.22443699263363961 \n",
            "Corelation to outcome for Glucose is 0.48796646527321064 \n",
            "Corelation to outcome for BloodPressure is 0.17171333286446713 \n",
            "Corelation to outcome for SkinThickness is 0.1659010662889893 \n",
            "Corelation to outcome for Insulin is 0.1711763270226193 \n",
            "Corelation to outcome for BMI is 0.2827927569760082 \n",
            "Corelation to outcome for DiabetesPedigreeFunction is 0.1554590791569403 \n",
            "Corelation to outcome for Age is 0.23650924717620253 \n",
            "Corelation to outcome for Outcome is 1.0 \n"
          ],
          "name": "stdout"
        }
      ]
    },
    {
      "cell_type": "markdown",
      "metadata": {
        "id": "vudAdzlO3H65",
        "colab_type": "text"
      },
      "source": [
        "From above we have observed that there is no highly corelated input variable, so we will keep all of them. To apply ML model on them, we need them in a single column vector, for that we need to import VectorAssembler. VectorAssembler is a input transformer to get a single input vector from multiple columns."
      ]
    },
    {
      "cell_type": "code",
      "metadata": {
        "id": "HBCkaaND3lcN",
        "colab_type": "code",
        "colab": {
          "base_uri": "https://localhost:8080/",
          "height": 225
        },
        "outputId": "c92a257f-06d0-4eda-b115-e345694c5c18"
      },
      "source": [
        "from pyspark.ml.feature import VectorAssembler\n",
        "assembler=VectorAssembler(inputCols=[\"Pregnancies\",\"Glucose\",\"BloodPressure\",\"SkinThickness\",\"Insulin\",\"BMI\",\"DiabetesPedigreeFunction\",\"Age\"],outputCol='features')\n",
        "outputfeatures=assembler.transform(df)\n",
        "outputfeatures.printSchema()"
      ],
      "execution_count": 27,
      "outputs": [
        {
          "output_type": "stream",
          "text": [
            "root\n",
            " |-- Pregnancies: integer (nullable = true)\n",
            " |-- Glucose: integer (nullable = true)\n",
            " |-- BloodPressure: integer (nullable = true)\n",
            " |-- SkinThickness: integer (nullable = true)\n",
            " |-- Insulin: integer (nullable = true)\n",
            " |-- BMI: double (nullable = true)\n",
            " |-- DiabetesPedigreeFunction: double (nullable = true)\n",
            " |-- Age: integer (nullable = true)\n",
            " |-- Outcome: integer (nullable = true)\n",
            " |-- features: vector (nullable = true)\n",
            "\n"
          ],
          "name": "stdout"
        }
      ]
    },
    {
      "cell_type": "code",
      "metadata": {
        "id": "inRHSxuC6A2S",
        "colab_type": "code",
        "colab": {
          "base_uri": "https://localhost:8080/",
          "height": 468
        },
        "outputId": "9670dabb-0545-48b5-9872-b4c3cc5f92f1"
      },
      "source": [
        "outputfeatures.show()\n"
      ],
      "execution_count": 28,
      "outputs": [
        {
          "output_type": "stream",
          "text": [
            "+-----------+-------+-------------+-------------+-------+----+------------------------+---+-------+--------------------+\n",
            "|Pregnancies|Glucose|BloodPressure|SkinThickness|Insulin| BMI|DiabetesPedigreeFunction|Age|Outcome|            features|\n",
            "+-----------+-------+-------------+-------------+-------+----+------------------------+---+-------+--------------------+\n",
            "|          2|    138|           62|           35|     80|33.6|                   0.127| 47|      1|[2.0,138.0,62.0,3...|\n",
            "|          0|     84|           82|           31|    125|38.2|                   0.233| 23|      0|[0.0,84.0,82.0,31...|\n",
            "|          0|    145|           69|           20|     80|44.2|                    0.63| 31|      1|[0.0,145.0,69.0,2...|\n",
            "|          0|    135|           68|           42|    250|42.3|                   0.365| 24|      1|[0.0,135.0,68.0,4...|\n",
            "|          1|    139|           62|           41|    480|40.7|                   0.536| 21|      0|[1.0,139.0,62.0,4...|\n",
            "|          0|    173|           78|           32|    265|46.5|                   1.159| 58|      0|[0.0,173.0,78.0,3...|\n",
            "|          4|     99|           72|           17|     80|25.6|                   0.294| 28|      0|[4.0,99.0,72.0,17...|\n",
            "|          8|    194|           80|           20|     80|26.1|                   0.551| 67|      0|[8.0,194.0,80.0,2...|\n",
            "|          2|     83|           65|           28|     66|36.8|                   0.629| 24|      0|[2.0,83.0,65.0,28...|\n",
            "|          2|     89|           90|           30|     80|33.5|                   0.292| 42|      0|[2.0,89.0,90.0,30...|\n",
            "|          4|     99|           68|           38|     80|32.8|                   0.145| 33|      0|[4.0,99.0,68.0,38...|\n",
            "|          4|    125|           70|           18|    122|28.9|                   1.144| 45|      1|[4.0,125.0,70.0,1...|\n",
            "|          3|     80|           69|           20|     80|32.0|                   0.174| 22|      0|[3.0,80.0,69.0,20...|\n",
            "|          6|    166|           74|           20|     80|26.6|                   0.304| 66|      0|[6.0,166.0,74.0,2...|\n",
            "|          5|    110|           68|           20|     80|26.0|                   0.292| 30|      0|[5.0,110.0,68.0,2...|\n",
            "|          2|     81|           72|           15|     76|30.1|                   0.547| 25|      0|[2.0,81.0,72.0,15...|\n",
            "|          7|    195|           70|           33|    145|25.1|                   0.163| 55|      1|[7.0,195.0,70.0,3...|\n",
            "|          6|    154|           74|           32|    193|29.3|                   0.839| 39|      0|[6.0,154.0,74.0,3...|\n",
            "|          2|    117|           90|           19|     71|25.2|                   0.313| 21|      0|[2.0,117.0,90.0,1...|\n",
            "|          3|     84|           72|           32|     80|37.2|                   0.267| 28|      0|[3.0,84.0,72.0,32...|\n",
            "+-----------+-------+-------------+-------------+-------+----+------------------------+---+-------+--------------------+\n",
            "only showing top 20 rows\n",
            "\n"
          ],
          "name": "stdout"
        }
      ]
    },
    {
      "cell_type": "markdown",
      "metadata": {
        "id": "vG_d_Slb6JiK",
        "colab_type": "text"
      },
      "source": [
        "Now applying Logistic regression ML model on our data"
      ]
    },
    {
      "cell_type": "code",
      "metadata": {
        "id": "jzmQX4sb6QeC",
        "colab_type": "code",
        "colab": {
          "base_uri": "https://localhost:8080/",
          "height": 86
        },
        "outputId": "4ede56b7-1906-484c-d3d1-3854b7a2e77e"
      },
      "source": [
        "from pyspark.ml.classification import LogisticRegression\n",
        "#selecting only relevant columsn to train our model\n",
        "finalData=outputfeatures.select(\"features\",\"Outcome\")\n",
        "finalData.printSchema()\n",
        "train,test=finalData.randomSplit([0.7,0.3])\n",
        "#creating model\n",
        "models=LogisticRegression(labelCol=\"Outcome\")\n",
        "model=models.fit(train)"
      ],
      "execution_count": 30,
      "outputs": [
        {
          "output_type": "stream",
          "text": [
            "root\n",
            " |-- features: vector (nullable = true)\n",
            " |-- Outcome: integer (nullable = true)\n",
            "\n"
          ],
          "name": "stdout"
        }
      ]
    },
    {
      "cell_type": "markdown",
      "metadata": {
        "id": "6HVJLX5UIVfu",
        "colab_type": "text"
      },
      "source": [
        "Let us see the model summary values like mean, standard deviation and so on."
      ]
    },
    {
      "cell_type": "code",
      "metadata": {
        "id": "q3Bh1vnSIUNw",
        "colab_type": "code",
        "colab": {
          "base_uri": "https://localhost:8080/",
          "height": 190
        },
        "outputId": "9da2ced8-cdf1-4205-a341-65810b827879"
      },
      "source": [
        "summary=model.summary\n",
        "summary.predictions.describe().show()"
      ],
      "execution_count": 31,
      "outputs": [
        {
          "output_type": "stream",
          "text": [
            "+-------+-------------------+------------------+\n",
            "|summary|            Outcome|        prediction|\n",
            "+-------+-------------------+------------------+\n",
            "|  count|               1414|              1414|\n",
            "|   mean| 0.3338048090523338| 0.260961810466761|\n",
            "| stddev|0.47173778666566724|0.4393145048929266|\n",
            "|    min|                0.0|               0.0|\n",
            "|    max|                1.0|               1.0|\n",
            "+-------+-------------------+------------------+\n",
            "\n"
          ],
          "name": "stdout"
        }
      ]
    },
    {
      "cell_type": "markdown",
      "metadata": {
        "id": "SmCsDDk9I1DM",
        "colab_type": "text"
      },
      "source": [
        "**Evalauation and Test Model**: we will be using BinaryClassificationEvaluator for performance measure of our model. BinaryClassificationEvaluator uses area under the ROC curve."
      ]
    },
    {
      "cell_type": "code",
      "metadata": {
        "id": "lSaUXTpmI1g-",
        "colab_type": "code",
        "colab": {
          "base_uri": "https://localhost:8080/",
          "height": 468
        },
        "outputId": "52a7fc82-35ca-42fd-893f-83a04bb72a5c"
      },
      "source": [
        "from pyspark.ml.evaluation import BinaryClassificationEvaluator\n",
        "newpredictions=model.evaluate(test)\n",
        "newpredictions.predictions.show()"
      ],
      "execution_count": 35,
      "outputs": [
        {
          "output_type": "stream",
          "text": [
            "+--------------------+-------+--------------------+--------------------+----------+\n",
            "|            features|Outcome|       rawPrediction|         probability|prediction|\n",
            "+--------------------+-------+--------------------+--------------------+----------+\n",
            "|[0.0,57.0,60.0,20...|      0|[3.90733428296241...|[0.98030182047910...|       0.0|\n",
            "|[0.0,67.0,76.0,20...|      0|[2.41163604084024...|[0.91771031701682...|       0.0|\n",
            "|[0.0,73.0,69.0,20...|      0|[4.31146907857720...|[0.98676372005437...|       0.0|\n",
            "|[0.0,74.0,52.0,10...|      0|[3.76137492694367...|[0.97727660963669...|       0.0|\n",
            "|[0.0,74.0,52.0,10...|      0|[3.76137492694367...|[0.97727660963669...|       0.0|\n",
            "|[0.0,84.0,64.0,22...|      0|[2.59625521007304...|[0.93062018213674...|       0.0|\n",
            "|[0.0,84.0,64.0,22...|      0|[2.59625521007304...|[0.93062018213674...|       0.0|\n",
            "|[0.0,84.0,82.0,31...|      0|[2.70401782403069...|[0.93726331066765...|       0.0|\n",
            "|[0.0,91.0,68.0,32...|      0|[2.26339603991380...|[0.90579980292783...|       0.0|\n",
            "|[0.0,91.0,68.0,32...|      0|[2.26339603991380...|[0.90579980292783...|       0.0|\n",
            "|[0.0,91.0,80.0,20...|      0|[2.57529896730285...|[0.92925484485997...|       0.0|\n",
            "|[0.0,93.0,60.0,20...|      0|[2.46455546011070...|[0.92161936877910...|       0.0|\n",
            "|[0.0,93.0,60.0,25...|      0|[2.83716261882542...|[0.94465129613681...|       0.0|\n",
            "|[0.0,93.0,60.0,25...|      0|[2.83716261882542...|[0.94465129613681...|       0.0|\n",
            "|[0.0,93.0,100.0,3...|      0|[1.14862841450068...|[0.75926030209121...|       0.0|\n",
            "|[0.0,93.0,100.0,3...|      0|[1.14862841450068...|[0.75926030209121...|       0.0|\n",
            "|[0.0,94.0,69.0,20...|      0|[2.72930077297745...|[0.93873363501256...|       0.0|\n",
            "|[0.0,94.0,70.0,27...|      0|[1.82701410879988...|[0.86140563785196...|       0.0|\n",
            "|[0.0,94.0,70.0,27...|      0|[1.82701410879988...|[0.86140563785196...|       0.0|\n",
            "|[0.0,95.0,85.0,25...|      1|[2.23559750176555...|[0.90340094421976...|       0.0|\n",
            "+--------------------+-------+--------------------+--------------------+----------+\n",
            "only showing top 20 rows\n",
            "\n"
          ],
          "name": "stdout"
        }
      ]
    },
    {
      "cell_type": "code",
      "metadata": {
        "id": "9tZRsBhSZzZ_",
        "colab_type": "code",
        "colab": {}
      },
      "source": [
        ""
      ],
      "execution_count": null,
      "outputs": []
    },
    {
      "cell_type": "code",
      "metadata": {
        "id": "_orUusQlE03v",
        "colab_type": "code",
        "colab": {
          "base_uri": "https://localhost:8080/",
          "height": 34
        },
        "outputId": "30f05335-bcc4-45c0-fdd4-554c733a81a8"
      },
      "source": [
        "evaluator = BinaryClassificationEvaluator(rawPredictionCol='rawPrediction', labelCol='Outcome')\n",
        "evaluator.evaluate(model.transform(test))"
      ],
      "execution_count": 36,
      "outputs": [
        {
          "output_type": "execute_result",
          "data": {
            "text/plain": [
              "0.826329331046312"
            ]
          },
          "metadata": {
            "tags": []
          },
          "execution_count": 36
        }
      ]
    },
    {
      "cell_type": "code",
      "metadata": {
        "id": "j28wAKNPamK2",
        "colab_type": "code",
        "colab": {}
      },
      "source": [
        "model.save(\"LRModel\")"
      ],
      "execution_count": 37,
      "outputs": []
    },
    {
      "cell_type": "markdown",
      "metadata": {
        "id": "s_R4wVHabAOH",
        "colab_type": "text"
      },
      "source": [
        "Loading the saved LRModel to use again "
      ]
    },
    {
      "cell_type": "code",
      "metadata": {
        "id": "9gZQPLw-ayr6",
        "colab_type": "code",
        "colab": {}
      },
      "source": [
        "from pyspark.ml.classification import LogisticRegressionModel\n",
        "model = LogisticRegressionModel.load('LRModel')"
      ],
      "execution_count": 38,
      "outputs": []
    }
  ]
}